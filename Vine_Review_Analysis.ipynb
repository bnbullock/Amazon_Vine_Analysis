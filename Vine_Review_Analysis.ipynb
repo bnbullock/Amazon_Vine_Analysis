{
  "nbformat": 4,
  "nbformat_minor": 0,
  "metadata": {
    "colab": {
      "name": "Vine_Review_Analysis.ipynb",
      "provenance": [],
      "collapsed_sections": []
    },
    "kernelspec": {
      "name": "python3",
      "display_name": "Python 3"
    },
    "language_info": {
      "name": "python"
    }
  },
  "cells": [
    {
      "cell_type": "code",
      "metadata": {
        "colab": {
          "base_uri": "https://localhost:8080/"
        },
        "id": "JFBpF3btwxC9",
        "outputId": "6dabea42-f2de-4b9e-9a65-a5cb0a4d9de2"
      },
      "source": [
        "\n",
        "import os\n",
        "# Find the latest version of spark 3.0 from http://www.apache.org/dist/spark/ and enter as the spark version\n",
        "# For example:\n",
        "# spark_version = 'spark-3.0.3'\n",
        "spark_version = 'spark-3.0.3'\n",
        "os.environ['SPARK_VERSION']=spark_version\n",
        "\n",
        "# Install Spark and Java\n",
        "!apt-get update\n",
        "!apt-get install openjdk-11-jdk-headless -qq > /dev/null\n",
        "!wget -q http://www.apache.org/dist/spark/$SPARK_VERSION/$SPARK_VERSION-bin-hadoop2.7.tgz\n",
        "!tar xf $SPARK_VERSION-bin-hadoop2.7.tgz\n",
        "!pip install -q findspark\n",
        "\n",
        "# Set Environment Variables\n",
        "import os\n",
        "os.environ[\"JAVA_HOME\"] = \"/usr/lib/jvm/java-11-openjdk-amd64\"\n",
        "os.environ[\"SPARK_HOME\"] = f\"/content/{spark_version}-bin-hadoop2.7\"\n",
        "\n",
        "# Start a SparkSession\n",
        "import findspark\n",
        "findspark.init()"
      ],
      "execution_count": 1,
      "outputs": [
        {
          "output_type": "stream",
          "text": [
            "\r0% [Working]\r            \rHit:1 http://security.ubuntu.com/ubuntu bionic-security InRelease\n",
            "\r0% [Connecting to archive.ubuntu.com (91.189.88.152)] [Connected to cloud.r-pro\r0% [1 InRelease gpgv 88.7 kB] [Connecting to archive.ubuntu.com (91.189.88.152)\r                                                                               \rHit:2 https://cloud.r-project.org/bin/linux/ubuntu bionic-cran40/ InRelease\n",
            "\r0% [1 InRelease gpgv 88.7 kB] [Connecting to archive.ubuntu.com (91.189.88.152)\r                                                                               \rIgn:3 https://developer.download.nvidia.com/compute/cuda/repos/ubuntu1804/x86_64  InRelease\n",
            "\r0% [1 InRelease gpgv 88.7 kB] [Connecting to archive.ubuntu.com (91.189.88.152)\r                                                                               \rIgn:4 https://developer.download.nvidia.com/compute/machine-learning/repos/ubuntu1804/x86_64  InRelease\n",
            "Hit:5 https://developer.download.nvidia.com/compute/cuda/repos/ubuntu1804/x86_64  Release\n",
            "Get:6 http://ppa.launchpad.net/c2d4u.team/c2d4u4.0+/ubuntu bionic InRelease [15.9 kB]\n",
            "Hit:7 https://developer.download.nvidia.com/compute/machine-learning/repos/ubuntu1804/x86_64  Release\n",
            "Hit:8 http://archive.ubuntu.com/ubuntu bionic InRelease\n",
            "Hit:9 http://archive.ubuntu.com/ubuntu bionic-updates InRelease\n",
            "Hit:10 http://archive.ubuntu.com/ubuntu bionic-backports InRelease\n",
            "Hit:11 http://ppa.launchpad.net/cran/libgit2/ubuntu bionic InRelease\n",
            "Hit:12 http://ppa.launchpad.net/deadsnakes/ppa/ubuntu bionic InRelease\n",
            "Hit:14 http://ppa.launchpad.net/graphics-drivers/ppa/ubuntu bionic InRelease\n",
            "Get:16 http://ppa.launchpad.net/c2d4u.team/c2d4u4.0+/ubuntu bionic/main Sources [1,793 kB]\n",
            "Get:17 http://ppa.launchpad.net/c2d4u.team/c2d4u4.0+/ubuntu bionic/main amd64 Packages [917 kB]\n",
            "Fetched 2,726 kB in 3s (833 kB/s)\n",
            "Reading package lists... Done\n"
          ],
          "name": "stdout"
        }
      ]
    },
    {
      "cell_type": "code",
      "metadata": {
        "colab": {
          "base_uri": "https://localhost:8080/"
        },
        "id": "G1I2pLEb0vOD",
        "outputId": "7f81304d-9241-4455-b0a9-997e5a80bc07"
      },
      "source": [
        "# Download the Postgres driver that will allow Spark to interact with Postgres.\n",
        "!wget https://jdbc.postgresql.org/download/postgresql-42.2.16.jar"
      ],
      "execution_count": 2,
      "outputs": [
        {
          "output_type": "stream",
          "text": [
            "--2021-08-23 03:59:20--  https://jdbc.postgresql.org/download/postgresql-42.2.16.jar\n",
            "Resolving jdbc.postgresql.org (jdbc.postgresql.org)... 72.32.157.228, 2001:4800:3e1:1::228\n",
            "Connecting to jdbc.postgresql.org (jdbc.postgresql.org)|72.32.157.228|:443... connected.\n",
            "HTTP request sent, awaiting response... 200 OK\n",
            "Length: 1002883 (979K) [application/java-archive]\n",
            "Saving to: ‘postgresql-42.2.16.jar.4’\n",
            "\n",
            "postgresql-42.2.16. 100%[===================>] 979.38K  --.-KB/s    in 0.09s   \n",
            "\n",
            "2021-08-23 03:59:20 (11.1 MB/s) - ‘postgresql-42.2.16.jar.4’ saved [1002883/1002883]\n",
            "\n"
          ],
          "name": "stdout"
        }
      ]
    },
    {
      "cell_type": "code",
      "metadata": {
        "id": "ECfixmuJxWWM"
      },
      "source": [
        "from pyspark.sql import SparkSession\n",
        "spark = SparkSession.builder.appName(\"M16-Amazon-Challenge\").config(\"spark.driver.extraClassPath\",\"/content/postgresql-42.2.16.jar\").getOrCreate()"
      ],
      "execution_count": 3,
      "outputs": []
    },
    {
      "cell_type": "code",
      "metadata": {
        "colab": {
          "base_uri": "https://localhost:8080/"
        },
        "id": "72bhiWnrxfFs",
        "outputId": "06b0fda9-f981-492a-cb17-1968c23b4333"
      },
      "source": [
        "from pyspark import SparkFiles\n",
        "url = \"https://s3.amazonaws.com/amazon-reviews-pds/tsv/amazon_reviews_us_Digital_Software_v1_00.tsv.gz\"\n",
        "spark.sparkContext.addFile(url)\n",
        "df = spark.read.option(\"encoding\", \"UTF-8\").csv(SparkFiles.get(\"\"), sep=\"\\t\", header=True, inferSchema=True)\n",
        "df.show()"
      ],
      "execution_count": 4,
      "outputs": [
        {
          "output_type": "stream",
          "text": [
            "+-----------+-----------+--------------+----------+--------------+--------------------+----------------+-----------+-------------+-----------+----+-----------------+--------------------+--------------------+-----------+\n",
            "|marketplace|customer_id|     review_id|product_id|product_parent|       product_title|product_category|star_rating|helpful_votes|total_votes|vine|verified_purchase|     review_headline|         review_body|review_date|\n",
            "+-----------+-----------+--------------+----------+--------------+--------------------+----------------+-----------+-------------+-----------+----+-----------------+--------------------+--------------------+-----------+\n",
            "|         US|   17747349|R2EI7QLPK4LF7U|B00U7LCE6A|     106182406|CCleaner Free [Do...|Digital_Software|          4|            0|          0|   N|                Y|          Four Stars|      So far so good| 2015-08-31|\n",
            "|         US|   10956619|R1W5OMFK1Q3I3O|B00HRJMOM4|     162269768|ResumeMaker Profe...|Digital_Software|          3|            0|          0|   N|                Y|         Three Stars|Needs a little mo...| 2015-08-31|\n",
            "|         US|   13132245| RPZWSYWRP92GI|B00P31G9PQ|     831433899|Amazon Drive Desk...|Digital_Software|          1|            1|          2|   N|                Y|            One Star|      Please cancel.| 2015-08-31|\n",
            "|         US|   35717248|R2WQWM04XHD9US|B00FGDEPDY|     991059534|Norton Internet S...|Digital_Software|          5|            0|          0|   N|                Y|  Works as Expected!|  Works as Expected!| 2015-08-31|\n",
            "|         US|   17710652|R1WSPK2RA2PDEF|B00FZ0FK0U|     574904556|SecureAnywhere In...|Digital_Software|          4|            1|          2|   N|                Y|Great antivirus. ...|I've had Webroot ...| 2015-08-31|\n",
            "|         US|   42392705|R11JVGRZRHTDAS|B004KPKSRQ|     306022575|Pc Matic Performa...|Digital_Software|          5|            4|          4|   N|                N|Great choice in s...|EXCELLENT softwar...| 2015-08-31|\n",
            "|         US|   52845868|R2B8468OKXXYE2|B00B1TFNTW|      54873662|Microsoft OneNote...|Digital_Software|          1|            1|          1|   N|                N|Munch, munch, mun...|The variations cr...| 2015-08-31|\n",
            "|         US|   15696503|R2HGGCCZSSNUCB|B00M9GTJLY|     103182180|Intuit Quicken Re...|Digital_Software|          1|            0|          0|   N|                Y|Horrible! Would n...|Horrible!  Would ...| 2015-08-31|\n",
            "|         US|    9723928| REEE4LHSVPRV9|B00H9A60O4|     608720080|Avast Free Antivi...|Digital_Software|          1|            0|          0|   N|                Y|            One Star|     Waste of time .| 2015-08-31|\n",
            "|         US|   23522877|R25OMUUILFFHI9|B008XAXAC4|      87969525|Apache OpenOffice...|Digital_Software|          5|            0|          0|   N|                Y|Very good suite o...|Work as easy as o...| 2015-08-31|\n",
            "|         US|   17022093|R2966PB8UBD5BM|B00MHZ6Z64|     249773946|     Norton Security|Digital_Software|          5|            0|          0|   N|                Y|          Five Stars|    Works perfectly!| 2015-08-31|\n",
            "|         US|   11635690|R1OU91L2G5H6H1|B00OPCQ70Q|     956532818|Corel Painter Ess...|Digital_Software|          1|            0|          2|   N|                Y|            One Star|Will not open on ...| 2015-08-31|\n",
            "|         US|   50349059|R3M6YQVMXWGTR6|B00MHZ71G2|       8655796|Norton Security w...|Digital_Software|          5|            0|          0|   N|                Y|Purchased this on...|Purchased this on...| 2015-08-31|\n",
            "|         US|     450121|R2M8VZGO4BFN9J|B00O8J0W6G|       7338419|Movavi Screen Cap...|Digital_Software|          1|            0|          1|   N|                Y|            One Star|God awful and did...| 2015-08-31|\n",
            "|         US|    2320642|R3UH0MJKIJ4VLP|B00NMPZCH6|     985055699|Photoshop Element...|Digital_Software|          3|            2|          3|   N|                Y|         Three Stars|I think its compl...| 2015-08-31|\n",
            "|         US|   16089737|R3E906WYGZVKWO|B012P5SJNC|     490456974|LearnSmart for Th...|Digital_Software|          1|            2|          2|   N|                Y|Will not work for...|You can purchase ...| 2015-08-31|\n",
            "|         US|   14082044|R1Z3N8UA5YQOV2|B00V9ZPIXY|      57097904|Fotor for Windows...|Digital_Software|          2|            0|          0|   N|                Y|           Two Stars|    it wont download| 2015-08-31|\n",
            "|         US|   18246272|R2VH10XSOR1QHF|B00LU2XHAC|     962800663|Kaspersky Anti-Vi...|Digital_Software|          5|            0|          0|   N|                Y|          Five Stars|I have been using...| 2015-08-31|\n",
            "|         US|   31837971|R1KCPJ8UASZESF|B0068TJOSQ|     154476766|H&R Block At Home...|Digital_Software|          5|            0|          0|   N|                Y|This was a Great ...|This was a Great ...| 2015-08-31|\n",
            "|         US|   12631500| RWTF87EKV4DYO|B00SGYWM80|     780881648| onlineTV [Download]|Digital_Software|          3|            0|          0|   N|                Y|         Three Stars|did not use,inter...| 2015-08-31|\n",
            "+-----------+-----------+--------------+----------+--------------+--------------------+----------------+-----------+-------------+-----------+----+-----------------+--------------------+--------------------+-----------+\n",
            "only showing top 20 rows\n",
            "\n"
          ],
          "name": "stdout"
        }
      ]
    },
    {
      "cell_type": "code",
      "metadata": {
        "colab": {
          "base_uri": "https://localhost:8080/"
        },
        "id": "sU8xO85ozHl2",
        "outputId": "05bb5946-0f4f-4756-987b-274d14eb1f88"
      },
      "source": [
        "# Create the vine_table. DataFrame\n",
        "vine_df = df.select([\"review_id\", \"star_rating\", \"helpful_votes\", \"total_votes\", \"vine\", \"verified_purchase\"])\n",
        "vine_df.show()"
      ],
      "execution_count": 5,
      "outputs": [
        {
          "output_type": "stream",
          "text": [
            "+--------------+-----------+-------------+-----------+----+-----------------+\n",
            "|     review_id|star_rating|helpful_votes|total_votes|vine|verified_purchase|\n",
            "+--------------+-----------+-------------+-----------+----+-----------------+\n",
            "|R2EI7QLPK4LF7U|          4|            0|          0|   N|                Y|\n",
            "|R1W5OMFK1Q3I3O|          3|            0|          0|   N|                Y|\n",
            "| RPZWSYWRP92GI|          1|            1|          2|   N|                Y|\n",
            "|R2WQWM04XHD9US|          5|            0|          0|   N|                Y|\n",
            "|R1WSPK2RA2PDEF|          4|            1|          2|   N|                Y|\n",
            "|R11JVGRZRHTDAS|          5|            4|          4|   N|                N|\n",
            "|R2B8468OKXXYE2|          1|            1|          1|   N|                N|\n",
            "|R2HGGCCZSSNUCB|          1|            0|          0|   N|                Y|\n",
            "| REEE4LHSVPRV9|          1|            0|          0|   N|                Y|\n",
            "|R25OMUUILFFHI9|          5|            0|          0|   N|                Y|\n",
            "|R2966PB8UBD5BM|          5|            0|          0|   N|                Y|\n",
            "|R1OU91L2G5H6H1|          1|            0|          2|   N|                Y|\n",
            "|R3M6YQVMXWGTR6|          5|            0|          0|   N|                Y|\n",
            "|R2M8VZGO4BFN9J|          1|            0|          1|   N|                Y|\n",
            "|R3UH0MJKIJ4VLP|          3|            2|          3|   N|                Y|\n",
            "|R3E906WYGZVKWO|          1|            2|          2|   N|                Y|\n",
            "|R1Z3N8UA5YQOV2|          2|            0|          0|   N|                Y|\n",
            "|R2VH10XSOR1QHF|          5|            0|          0|   N|                Y|\n",
            "|R1KCPJ8UASZESF|          5|            0|          0|   N|                Y|\n",
            "| RWTF87EKV4DYO|          3|            0|          0|   N|                Y|\n",
            "+--------------+-----------+-------------+-----------+----+-----------------+\n",
            "only showing top 20 rows\n",
            "\n"
          ],
          "name": "stdout"
        }
      ]
    },
    {
      "cell_type": "code",
      "metadata": {
        "colab": {
          "base_uri": "https://localhost:8080/"
        },
        "id": "9oZF6_wHOmnV",
        "outputId": "727f17b9-69fd-4d24-fc86-926b27524663"
      },
      "source": [
        "#filter by total_votes\n",
        "reviews_df = vine_df.filter(\"total_votes >= 20\")\n",
        "reviews_df.show()"
      ],
      "execution_count": 6,
      "outputs": [
        {
          "output_type": "stream",
          "text": [
            "+--------------+-----------+-------------+-----------+----+-----------------+\n",
            "|     review_id|star_rating|helpful_votes|total_votes|vine|verified_purchase|\n",
            "+--------------+-----------+-------------+-----------+----+-----------------+\n",
            "| RXKYQDUACCRIA|          2|           20|         20|   N|                N|\n",
            "|R10Q403A12Q9PX|          1|          123|        136|   N|                N|\n",
            "|R2OH6106YSNSV4|          1|           20|         24|   N|                Y|\n",
            "|R3C1OKM81KRDMO|          4|          159|        167|   N|                Y|\n",
            "|R180C1J73S8MCV|          1|           27|         31|   N|                N|\n",
            "|R208352XIVG6CL|          2|           17|         25|   N|                N|\n",
            "|R1J4DGLB9OKW2B|          4|            9|         20|   N|                N|\n",
            "|R2G3JWLCDAPN5I|          5|            9|         21|   N|                N|\n",
            "| RXM58ZCC2N93C|          1|           17|         23|   N|                N|\n",
            "| RJSGOYKD6T7KY|          5|            3|         28|   N|                N|\n",
            "|R3RCW77O75ODSD|          5|            3|         41|   N|                N|\n",
            "| RC9E2K8LLD6P6|          1|           14|         20|   N|                N|\n",
            "|R2PSBYN2BGZQPO|          1|           28|         32|   N|                Y|\n",
            "| RE1GOM9XMXJ3J|          5|           18|         24|   N|                Y|\n",
            "|R1DNLWMZ7LNLPM|          3|           20|         20|   N|                N|\n",
            "| RKXVYYFM7CB4H|          5|            5|         22|   N|                N|\n",
            "|R1XGMSQB2TRL3U|          5|          484|        497|   N|                N|\n",
            "|R19NLPNF7ZMAQC|          1|           15|         23|   N|                N|\n",
            "| R50SEHPFR70L1|          1|           10|         30|   N|                N|\n",
            "|R33F0WIMIAGYI8|          1|           37|         40|   N|                N|\n",
            "+--------------+-----------+-------------+-----------+----+-----------------+\n",
            "only showing top 20 rows\n",
            "\n"
          ],
          "name": "stdout"
        }
      ]
    },
    {
      "cell_type": "code",
      "metadata": {
        "colab": {
          "base_uri": "https://localhost:8080/"
        },
        "id": "oFX2TsV0b4IX",
        "outputId": "35928319-0b8c-47e3-d375-4cc35c307c96"
      },
      "source": [
        "#Check Schema for datatypes\n",
        "reviews_df.printSchema()"
      ],
      "execution_count": 7,
      "outputs": [
        {
          "output_type": "stream",
          "text": [
            "root\n",
            " |-- review_id: string (nullable = true)\n",
            " |-- star_rating: integer (nullable = true)\n",
            " |-- helpful_votes: integer (nullable = true)\n",
            " |-- total_votes: integer (nullable = true)\n",
            " |-- vine: string (nullable = true)\n",
            " |-- verified_purchase: string (nullable = true)\n",
            "\n"
          ],
          "name": "stdout"
        }
      ]
    },
    {
      "cell_type": "code",
      "metadata": {
        "colab": {
          "base_uri": "https://localhost:8080/"
        },
        "id": "xY_rHyVavkm7",
        "outputId": "a98d9a3b-501f-4c63-f6ac-e94f4b1cdd17"
      },
      "source": [
        "# Create a new column with vote ratio calculated\n",
        "ratio_df = reviews_df.withColumn('vote_ratio', (reviews_df['helpful_votes']/reviews_df['total_votes']))\n",
        "ratio_df.show()"
      ],
      "execution_count": 8,
      "outputs": [
        {
          "output_type": "stream",
          "text": [
            "+--------------+-----------+-------------+-----------+----+-----------------+-------------------+\n",
            "|     review_id|star_rating|helpful_votes|total_votes|vine|verified_purchase|         vote_ratio|\n",
            "+--------------+-----------+-------------+-----------+----+-----------------+-------------------+\n",
            "| RXKYQDUACCRIA|          2|           20|         20|   N|                N|                1.0|\n",
            "|R10Q403A12Q9PX|          1|          123|        136|   N|                N| 0.9044117647058824|\n",
            "|R2OH6106YSNSV4|          1|           20|         24|   N|                Y| 0.8333333333333334|\n",
            "|R3C1OKM81KRDMO|          4|          159|        167|   N|                Y| 0.9520958083832335|\n",
            "|R180C1J73S8MCV|          1|           27|         31|   N|                N| 0.8709677419354839|\n",
            "|R208352XIVG6CL|          2|           17|         25|   N|                N|               0.68|\n",
            "|R1J4DGLB9OKW2B|          4|            9|         20|   N|                N|               0.45|\n",
            "|R2G3JWLCDAPN5I|          5|            9|         21|   N|                N|0.42857142857142855|\n",
            "| RXM58ZCC2N93C|          1|           17|         23|   N|                N| 0.7391304347826086|\n",
            "| RJSGOYKD6T7KY|          5|            3|         28|   N|                N|0.10714285714285714|\n",
            "|R3RCW77O75ODSD|          5|            3|         41|   N|                N|0.07317073170731707|\n",
            "| RC9E2K8LLD6P6|          1|           14|         20|   N|                N|                0.7|\n",
            "|R2PSBYN2BGZQPO|          1|           28|         32|   N|                Y|              0.875|\n",
            "| RE1GOM9XMXJ3J|          5|           18|         24|   N|                Y|               0.75|\n",
            "|R1DNLWMZ7LNLPM|          3|           20|         20|   N|                N|                1.0|\n",
            "| RKXVYYFM7CB4H|          5|            5|         22|   N|                N|0.22727272727272727|\n",
            "|R1XGMSQB2TRL3U|          5|          484|        497|   N|                N| 0.9738430583501007|\n",
            "|R19NLPNF7ZMAQC|          1|           15|         23|   N|                N| 0.6521739130434783|\n",
            "| R50SEHPFR70L1|          1|           10|         30|   N|                N| 0.3333333333333333|\n",
            "|R33F0WIMIAGYI8|          1|           37|         40|   N|                N|              0.925|\n",
            "+--------------+-----------+-------------+-----------+----+-----------------+-------------------+\n",
            "only showing top 20 rows\n",
            "\n"
          ],
          "name": "stdout"
        }
      ]
    },
    {
      "cell_type": "code",
      "metadata": {
        "colab": {
          "base_uri": "https://localhost:8080/"
        },
        "id": "q3nWxBDgQMA7",
        "outputId": "0cd0cc57-f845-4206-8920-2168b7efd384"
      },
      "source": [
        "#filter by vote ratio greater than .5\n",
        "top_votes_df = ratio_df.filter(\"vote_ratio >= .5\")\n",
        "top_votes_df.show()"
      ],
      "execution_count": 9,
      "outputs": [
        {
          "output_type": "stream",
          "text": [
            "+--------------+-----------+-------------+-----------+----+-----------------+------------------+\n",
            "|     review_id|star_rating|helpful_votes|total_votes|vine|verified_purchase|        vote_ratio|\n",
            "+--------------+-----------+-------------+-----------+----+-----------------+------------------+\n",
            "| RXKYQDUACCRIA|          2|           20|         20|   N|                N|               1.0|\n",
            "|R10Q403A12Q9PX|          1|          123|        136|   N|                N|0.9044117647058824|\n",
            "|R2OH6106YSNSV4|          1|           20|         24|   N|                Y|0.8333333333333334|\n",
            "|R3C1OKM81KRDMO|          4|          159|        167|   N|                Y|0.9520958083832335|\n",
            "|R180C1J73S8MCV|          1|           27|         31|   N|                N|0.8709677419354839|\n",
            "|R208352XIVG6CL|          2|           17|         25|   N|                N|              0.68|\n",
            "| RXM58ZCC2N93C|          1|           17|         23|   N|                N|0.7391304347826086|\n",
            "| RC9E2K8LLD6P6|          1|           14|         20|   N|                N|               0.7|\n",
            "|R2PSBYN2BGZQPO|          1|           28|         32|   N|                Y|             0.875|\n",
            "| RE1GOM9XMXJ3J|          5|           18|         24|   N|                Y|              0.75|\n",
            "|R1DNLWMZ7LNLPM|          3|           20|         20|   N|                N|               1.0|\n",
            "|R1XGMSQB2TRL3U|          5|          484|        497|   N|                N|0.9738430583501007|\n",
            "|R19NLPNF7ZMAQC|          1|           15|         23|   N|                N|0.6521739130434783|\n",
            "|R33F0WIMIAGYI8|          1|           37|         40|   N|                N|             0.925|\n",
            "|R12H2JSZ8FBD0U|          1|           24|         25|   N|                N|              0.96|\n",
            "|R2G2GA3WN4F1PR|          4|           17|         20|   N|                N|              0.85|\n",
            "| R6IUCHIF49DOE|          1|          206|        217|   N|                Y|0.9493087557603687|\n",
            "|R1LHLDTFJJRDX5|          1|           67|         71|   N|                N|0.9436619718309859|\n",
            "|R17QFD0HGIKU0I|          1|           34|         41|   N|                N|0.8292682926829268|\n",
            "|R19JXH2E65H54Q|          5|           24|         24|   N|                Y|               1.0|\n",
            "+--------------+-----------+-------------+-----------+----+-----------------+------------------+\n",
            "only showing top 20 rows\n",
            "\n"
          ],
          "name": "stdout"
        }
      ]
    },
    {
      "cell_type": "code",
      "metadata": {
        "colab": {
          "base_uri": "https://localhost:8080/"
        },
        "id": "refnqcwM7iFk",
        "outputId": "0ec34b0a-eb42-4ed7-e638-5ffa1fdd4812"
      },
      "source": [
        "# Yes Votes\n",
        "yes_df = top_votes_df.filter(top_votes_df[\"vine\"] == \"Y\")\n",
        "yes_df.show()"
      ],
      "execution_count": 10,
      "outputs": [
        {
          "output_type": "stream",
          "text": [
            "+---------+-----------+-------------+-----------+----+-----------------+----------+\n",
            "|review_id|star_rating|helpful_votes|total_votes|vine|verified_purchase|vote_ratio|\n",
            "+---------+-----------+-------------+-----------+----+-----------------+----------+\n",
            "+---------+-----------+-------------+-----------+----+-----------------+----------+\n",
            "\n"
          ],
          "name": "stdout"
        }
      ]
    },
    {
      "cell_type": "code",
      "metadata": {
        "colab": {
          "base_uri": "https://localhost:8080/"
        },
        "id": "lgH5QGur9qSe",
        "outputId": "76d6ad3e-b454-4e86-f13e-93f3abfc07e6"
      },
      "source": [
        "# No Votes\n",
        "no_df = top_votes_df.filter(top_votes_df[\"vine\"] == \"N\")\n",
        "no_df.show()"
      ],
      "execution_count": 11,
      "outputs": [
        {
          "output_type": "stream",
          "text": [
            "+--------------+-----------+-------------+-----------+----+-----------------+------------------+\n",
            "|     review_id|star_rating|helpful_votes|total_votes|vine|verified_purchase|        vote_ratio|\n",
            "+--------------+-----------+-------------+-----------+----+-----------------+------------------+\n",
            "| RXKYQDUACCRIA|          2|           20|         20|   N|                N|               1.0|\n",
            "|R10Q403A12Q9PX|          1|          123|        136|   N|                N|0.9044117647058824|\n",
            "|R2OH6106YSNSV4|          1|           20|         24|   N|                Y|0.8333333333333334|\n",
            "|R3C1OKM81KRDMO|          4|          159|        167|   N|                Y|0.9520958083832335|\n",
            "|R180C1J73S8MCV|          1|           27|         31|   N|                N|0.8709677419354839|\n",
            "|R208352XIVG6CL|          2|           17|         25|   N|                N|              0.68|\n",
            "| RXM58ZCC2N93C|          1|           17|         23|   N|                N|0.7391304347826086|\n",
            "| RC9E2K8LLD6P6|          1|           14|         20|   N|                N|               0.7|\n",
            "|R2PSBYN2BGZQPO|          1|           28|         32|   N|                Y|             0.875|\n",
            "| RE1GOM9XMXJ3J|          5|           18|         24|   N|                Y|              0.75|\n",
            "|R1DNLWMZ7LNLPM|          3|           20|         20|   N|                N|               1.0|\n",
            "|R1XGMSQB2TRL3U|          5|          484|        497|   N|                N|0.9738430583501007|\n",
            "|R19NLPNF7ZMAQC|          1|           15|         23|   N|                N|0.6521739130434783|\n",
            "|R33F0WIMIAGYI8|          1|           37|         40|   N|                N|             0.925|\n",
            "|R12H2JSZ8FBD0U|          1|           24|         25|   N|                N|              0.96|\n",
            "|R2G2GA3WN4F1PR|          4|           17|         20|   N|                N|              0.85|\n",
            "| R6IUCHIF49DOE|          1|          206|        217|   N|                Y|0.9493087557603687|\n",
            "|R1LHLDTFJJRDX5|          1|           67|         71|   N|                N|0.9436619718309859|\n",
            "|R17QFD0HGIKU0I|          1|           34|         41|   N|                N|0.8292682926829268|\n",
            "|R19JXH2E65H54Q|          5|           24|         24|   N|                Y|               1.0|\n",
            "+--------------+-----------+-------------+-----------+----+-----------------+------------------+\n",
            "only showing top 20 rows\n",
            "\n"
          ],
          "name": "stdout"
        }
      ]
    },
    {
      "cell_type": "code",
      "metadata": {
        "id": "IhMfrlKnmTUJ"
      },
      "source": [
        "# Load Library\n",
        "from pyspark.sql.functions import round, col\n",
        "\n",
        "# define function to evaluate divisor\n",
        "def safe_div(x, y):\n",
        "    return 0 if y == 0 else x / y"
      ],
      "execution_count": 12,
      "outputs": []
    },
    {
      "cell_type": "code",
      "metadata": {
        "id": "561oWot1wnty"
      },
      "source": [
        "# extracting summary values from the no_df dataframe\n",
        "nreview_count = no_df.count()\n",
        "nFiveStar_total = no_df.filter('star_rating == 5').count()\n",
        "nFiveStar_Per = safe_div(nFiveStar_total, nreview_count)\n",
        "npercentage = \"{:.0%}\".format(nFiveStar_Per)"
      ],
      "execution_count": 13,
      "outputs": []
    },
    {
      "cell_type": "code",
      "metadata": {
        "id": "aWAVBGAvggc5"
      },
      "source": [
        "# extracting summary values from the yes_df dataframe\n",
        "yreview_total = yes_df.count()\n",
        "yFiveStar_total = yes_df.filter('star_rating == 5').count()\n",
        "yFiveStar_Per = safe_div(yFiveStar_total, yreview_total)\n",
        "ypercentage = \"{:.0%}\".format(yFiveStar_Per)"
      ],
      "execution_count": 14,
      "outputs": []
    },
    {
      "cell_type": "code",
      "metadata": {
        "colab": {
          "base_uri": "https://localhost:8080/"
        },
        "id": "vRYuAL6LhBK-",
        "outputId": "3cc5c21b-3ec0-4a38-aa7f-189eafcfff7d"
      },
      "source": [
        "# printing\n",
        "\n",
        "print(f'Reviewers in the Vine program')\n",
        "print(f'-----------------------------')\n",
        "print(f'Total Reviews: {yreview_total}')\n",
        "print(f'Number of 5-star reviews: {yFiveStar_total}')\n",
        "print(f'Percentage: {ypercentage}')\n",
        "\n",
        "print(f'\\n\\nReviewers not in the Vine program')\n",
        "print(f'---------------------------------')\n",
        "print(f'Total Reviews: {nreview_count}')\n",
        "print(f'Number of 5-star reviews: {nFiveStar_total}')\n",
        "print(f'Percentage: {npercentage}')"
      ],
      "execution_count": 15,
      "outputs": [
        {
          "output_type": "stream",
          "text": [
            "Reviewers in the Vine program\n",
            "-----------------------------\n",
            "Total Reviews: 0\n",
            "Number of 5-star reviews: 0\n",
            "Percentage: 0%\n",
            "\n",
            "\n",
            "Reviewers not in the Vine program\n",
            "---------------------------------\n",
            "Total Reviews: 2120\n",
            "Number of 5-star reviews: 314\n",
            "Percentage: 15%\n"
          ],
          "name": "stdout"
        }
      ]
    }
  ]
}